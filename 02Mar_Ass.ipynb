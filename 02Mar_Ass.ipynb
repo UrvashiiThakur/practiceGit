{
  "nbformat": 4,
  "nbformat_minor": 0,
  "metadata": {
    "colab": {
      "provenance": [],
      "authorship_tag": "ABX9TyM6JNgGNn+72Q1PyYXhwHDb",
      "include_colab_link": true
    },
    "kernelspec": {
      "name": "python3",
      "display_name": "Python 3"
    },
    "language_info": {
      "name": "python"
    }
  },
  "cells": [
    {
      "cell_type": "markdown",
      "metadata": {
        "id": "view-in-github",
        "colab_type": "text"
      },
      "source": [
        "<a href=\"https://colab.research.google.com/github/UrvashiiThakur/practiceGit/blob/main/02Mar_Ass.ipynb\" target=\"_parent\"><img src=\"https://colab.research.google.com/assets/colab-badge.svg\" alt=\"Open In Colab\"/></a>"
      ]
    },
    {
      "cell_type": "code",
      "execution_count": null,
      "metadata": {
        "id": "7noak4Jo6TWg"
      },
      "outputs": [],
      "source": []
    },
    {
      "cell_type": "markdown",
      "source": [
        "**Q1: What is Matplotlib? Why is it used? Name five plots that can be plotted using the Pyplot module of\n",
        "Matplotlib.**\n",
        "\n",
        "\n",
        "Matplotlib is a comprehensive library for creating static, animated, and interactive visualizations in Python. It is widely used for plotting and visualizing data in a variety of forms.\n",
        "\n",
        "Why is it used?\n",
        "\n",
        "To create a wide variety of plots and charts.\n",
        "To visualize data to understand trends, patterns, and outliers.\n",
        "To create high-quality figures for publications and presentations.\n",
        "Five plots that can be plotted using the Pyplot module of Matplotlib:\n",
        "\n",
        "Line Plot\n",
        "\n",
        "Scatter Plot\n",
        "\n",
        "Bar Plot\n",
        "\n",
        "Histogram\n",
        "\n",
        "Box Plot"
      ],
      "metadata": {
        "id": "uGL5d__36jOA"
      }
    },
    {
      "cell_type": "markdown",
      "source": [
        "**Q2: What is a scatter plot? Use the following code to generate data for x and y. Using this generated data\n",
        "plot a scatter plot.\n",
        "import numpy as np\n",
        "np.random.seed(3)\n",
        "x = 3 + np.random.normal(0, 2, 50)\n",
        "y = 3 + np.random.normal(0, 2, len(x))\n",
        "Note: Also add title, xlabel, and ylabel to the plot.**\n",
        "\n",
        "A scatter plot is a type of plot that displays values for typically two variables for a set of data. The data is displayed as a collection of points, each having the value of one variable determining the position on the horizontal axis and the value of the other variable determining the position on the vertical axis.\n",
        "\n",
        "\n",
        "\n",
        "```\n",
        "import numpy as np\n",
        "import matplotlib.pyplot as plt\n",
        "\n",
        "np.random.seed(3)\n",
        "x = 3 + np.random.normal(0, 2, 50)\n",
        "y = 3 + np.random.normal(0, 2, len(x))\n",
        "\n",
        "plt.scatter(x, y)\n",
        "plt.title('Scatter Plot')\n",
        "plt.xlabel('X values')\n",
        "plt.ylabel('Y values')\n",
        "plt.show()\n",
        "\n",
        "```\n",
        "\n"
      ],
      "metadata": {
        "id": "qJPvgidF91d5"
      }
    },
    {
      "cell_type": "markdown",
      "source": [
        "**Q3: Why is the subplot() function used? Draw four line plots using the subplot() function.\n",
        "Use the following data:\n",
        "import numpy as np\n",
        "For line 1: x = np.array([0, 1, 2, 3, 4, 5]) and y = np.array([0, 100, 200, 300, 400, 500])\n",
        "For line 2: x = np.array([0, 1, 2, 3, 4, 5]) and y = np.array([50, 20, 40, 20, 60, 70])\n",
        "For line 3: x = np.array([0, 1, 2, 3, 4, 5]) and y = np.array([10, 20, 30, 40, 50, 60])\n",
        "For line 4: x = np.array([0, 1, 2, 3, 4, 5]) and y = np.array([200, 350, 250, 550, 450, 150])**\n",
        "\n",
        "\n",
        "The subplot() function in Matplotlib is used to create multiple plots in a single figure. This is useful for comparing different plots side by side or for visualizing data in a structured manner.\n",
        "\n",
        "\n",
        "```\n",
        "import numpy as np\n",
        "import matplotlib.pyplot as plt\n",
        "\n",
        "x1 = np.array([0, 1, 2, 3, 4, 5])\n",
        "y1 = np.array([0, 100, 200, 300, 400, 500])\n",
        "\n",
        "x2 = np.array([0, 1, 2, 3, 4, 5])\n",
        "y2 = np.array([50, 20, 40, 20, 60, 70])\n",
        "\n",
        "x3 = np.array([0, 1, 2, 3, 4, 5])\n",
        "y3 = np.array([10, 20, 30, 40, 50, 60])\n",
        "\n",
        "x4 = np.array([0, 1, 2, 3, 4, 5])\n",
        "y4 = np.array([200, 350, 250, 550, 450, 150])\n",
        "\n",
        "plt.figure(figsize=(10, 10))\n",
        "\n",
        "plt.subplot(2, 2, 1)\n",
        "plt.plot(x1, y1)\n",
        "plt.title('Line 1')\n",
        "\n",
        "plt.subplot(2, 2, 2)\n",
        "plt.plot(x2, y2)\n",
        "plt.title('Line 2')\n",
        "\n",
        "plt.subplot(2, 2, 3)\n",
        "plt.plot(x3, y3)\n",
        "plt.title('Line 3')\n",
        "\n",
        "plt.subplot(2, 2, 4)\n",
        "plt.plot(x4, y4)\n",
        "plt.title('Line 4')\n",
        "\n",
        "plt.tight_layout()\n",
        "plt.show()\n",
        "\n",
        "```\n",
        "\n",
        "\n"
      ],
      "metadata": {
        "id": "c2y7iCxJ91__"
      }
    },
    {
      "cell_type": "markdown",
      "source": [
        "**Q4: What is a bar plot? Why is it used? Using the following data plot a bar plot and a horizontal bar plot.\n",
        "import numpy as np\n",
        "company = np.array([\"Apple\", \"Microsoft\", \"Google\", \"AMD\"])\n",
        "profit = np.array([3000, 8000, 1000, 10000])**\n",
        "\n",
        "A bar plot is a graph that presents categorical data with rectangular bars with lengths proportional to the values that they represent. It is used to compare different categories or groups\n",
        "\n",
        "\n",
        "```\n",
        "import numpy as np\n",
        "import matplotlib.pyplot as plt\n",
        "\n",
        "# Data for the plots\n",
        "company = np.array([\"Apple\", \"Microsoft\", \"Google\", \"AMD\"])\n",
        "profit = np.array([3000, 8000, 1000, 10000])\n",
        "\n",
        "# Vertical bar plot\n",
        "plt.figure(figsize=(10, 5))\n",
        "plt.bar(company, profit)\n",
        "plt.title('Company Profits')\n",
        "plt.xlabel('Company')\n",
        "plt.ylabel('Profit')\n",
        "plt.show()\n",
        "\n",
        "# Horizontal bar plot\n",
        "plt.figure(figsize=(10, 5))\n",
        "plt.barh(company, profit)\n",
        "plt.title('Company Profits')\n",
        "plt.xlabel('Profit')\n",
        "plt.ylabel('Company')\n",
        "plt.show()\n",
        "\n",
        "```\n",
        "\n"
      ],
      "metadata": {
        "id": "gqWTmgbjk-GZ"
      }
    },
    {
      "cell_type": "markdown",
      "source": [
        "**Q5: What is a box plot? Why is it used? Using the following data plot a box plot.\n",
        "box1 = np.random.normal(100, 10, 200)\n",
        "box2 = np.random.normal(90, 20, 200)**\n",
        "\n",
        "A box plot (or box-and-whisker plot) is a standardized way of displaying the distribution of data based on a five-number summary: minimum, first quartile (Q1), median, third quartile (Q3), and maximum. It is used to identify outliers and to understand the distribution and spread of the data.\n",
        "\n",
        "\n",
        "\n",
        "```\n",
        "import numpy as np\n",
        "import matplotlib.pyplot as plt\n",
        "\n",
        "# Data for the box plot\n",
        "box1 = np.random.normal(100, 10, 200)\n",
        "box2 = np.random.normal(90, 20, 200)\n",
        "\n",
        "# Create box plot\n",
        "plt.figure(figsize=(10, 5))\n",
        "plt.boxplot([box1, box2], labels=['Box 1', 'Box 2'])\n",
        "plt.title('Box Plot')\n",
        "plt.ylabel('Values')\n",
        "plt.show()\n",
        "\n",
        "```\n",
        "\n"
      ],
      "metadata": {
        "id": "4cmgvNrklYFT"
      }
    }
  ]
}