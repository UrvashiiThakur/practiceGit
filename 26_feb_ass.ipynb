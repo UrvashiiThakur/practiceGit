{
  "nbformat": 4,
  "nbformat_minor": 0,
  "metadata": {
    "colab": {
      "provenance": [],
      "authorship_tag": "ABX9TyMdzKeZRPZOSoGSNvNFGb7t",
      "include_colab_link": true
    },
    "kernelspec": {
      "name": "python3",
      "display_name": "Python 3"
    },
    "language_info": {
      "name": "python"
    }
  },
  "cells": [
    {
      "cell_type": "markdown",
      "metadata": {
        "id": "view-in-github",
        "colab_type": "text"
      },
      "source": [
        "<a href=\"https://colab.research.google.com/github/UrvashiiThakur/practiceGit/blob/main/26_feb_ass.ipynb\" target=\"_parent\"><img src=\"https://colab.research.google.com/assets/colab-badge.svg\" alt=\"Open In Colab\"/></a>"
      ]
    },
    {
      "cell_type": "code",
      "execution_count": null,
      "metadata": {
        "id": "WAnlUMi1_E-F"
      },
      "outputs": [],
      "source": []
    },
    {
      "cell_type": "markdown",
      "source": [
        "**Q1. Is there any difference in the data type of variables list_ and array_list? If there is then write a code\n",
        "to print the data types of both the variables.**\n",
        "\n",
        "\n",
        "\n",
        "```\n",
        "import numpy as np\n",
        "\n",
        "list_ = ['1', '2', '3', '4', '5']\n",
        "array_list = np.array(object=list_)\n",
        "\n",
        "print(\"Data type of list_:\", type(list_))\n",
        "print(\"Data type of array_list:\", type(array_list))\n",
        "\n",
        "```\n",
        "Output Explanation:\n",
        "\n",
        "list_ is a Python list.\n",
        "array_list is a NumPy array.\n",
        "\n"
      ],
      "metadata": {
        "id": "9TgZHAgD_R2s"
      }
    },
    {
      "cell_type": "markdown",
      "source": [
        "**Q2. Write a code to print the data type of each and every element of both the variables list_ and\n",
        "arra_list.**\n",
        "\n",
        "\n",
        "\n",
        "```\n",
        "print(\"Data types of elements in list_:\")\n",
        "for element in list_:\n",
        "    print(type(element))\n",
        "\n",
        "print(\"Data types of elements in array_list:\")\n",
        "for element in array_list:\n",
        "    print(type(element))\n",
        "\n",
        "```\n",
        "Output Explanation:\n",
        "\n",
        "Each element in list_ is of type str.\n",
        "\n",
        "Each element in array_list is also of type str\n",
        "\n"
      ],
      "metadata": {
        "id": "NOqOehaq_tns"
      }
    },
    {
      "cell_type": "markdown",
      "source": [
        "**Q3. Considering the following changes in the variable, array_list:\n",
        "array_list = np.array(object = list_, dtype = int)\n",
        "Will there be any difference in the data type of the elements present in both the variables, list_ and\n",
        "arra_list? If so then print the data types of each and every element present in both the variables, list_\n",
        "and arra_list.\n",
        "Consider the below code to answer further questions:\n",
        "import numpy as np\n",
        "num_list = [ [ 1 , 2 , 3 ] , [ 4 , 5 , 6 ] ]\n",
        "num_array = np.array(object = num_list)**\n",
        "\n",
        "\n",
        "\n",
        "```\n",
        "array_list = np.array(object=list_, dtype=int)\n",
        "\n",
        "print(\"Data types of elements in list_ (after changing dtype of array_list):\")\n",
        "for element in list_:\n",
        "    print(type(element))\n",
        "\n",
        "print(\"Data types of elements in array_list (after changing dtype):\")\n",
        "for element in array_list:\n",
        "    print(type(element))\n",
        "\n",
        "```\n",
        "Output Explanation:\n",
        "\n",
        "The elements in list_ remain of type str.\n",
        "The elements in array_list are now of type int, due to the specified dtype=int\n"
      ],
      "metadata": {
        "id": "8x4DKEYpAXeA"
      }
    },
    {
      "cell_type": "markdown",
      "source": [
        "**Q4. Write a code to find the following characteristics of variable, num_array:\n",
        "(i) shape\n",
        "(ii) size**\n",
        "\n",
        "\n",
        "```\n",
        "import numpy as np\n",
        "\n",
        "num_list = [[1, 2, 3], [4, 5, 6]]\n",
        "num_array = np.array(object=num_list)\n",
        "\n",
        "print(\"Shape of num_array:\", num_array.shape)\n",
        "print(\"Size of num_array:\", num_array.size)\n",
        "\n",
        "```\n",
        "\n"
      ],
      "metadata": {
        "id": "SYoZpfpqBnbp"
      }
    },
    {
      "cell_type": "markdown",
      "source": [
        "**Q5. Write a code to create numpy array of 3*3 matrix containing zeros only, using a numpy array\n",
        "creation function.\n",
        "[Hint: The size of the array will be 9 and the shape will be (3,3).]**\n",
        "\n",
        "\n",
        "\n",
        "```\n",
        "zero_matrix = np.zeros((3, 3))\n",
        "\n",
        "print(\"3x3 matrix containing zeros:\")\n",
        "print(zero_matrix)\n",
        "\n",
        "```\n",
        "\n"
      ],
      "metadata": {
        "id": "kmukACdcB3Us"
      }
    },
    {
      "cell_type": "markdown",
      "source": [
        "**Q6. Create an identity matrix of shape (5,5) using numpy functions?\n",
        "[Hint: An identity matrix is a matrix containing 1 diagonally and other elements will be 0.]**\n",
        "\n",
        "\n",
        "\n",
        "```\n",
        "identity_matrix = np.eye(5)\n",
        "\n",
        "print(\"5x5 identity matrix:\")\n",
        "print(identity_matrix)\n",
        "\n",
        "```\n",
        "\n"
      ],
      "metadata": {
        "id": "9tUhatBtCa1g"
      }
    }
  ]
}