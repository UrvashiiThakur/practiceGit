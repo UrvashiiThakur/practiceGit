{
  "nbformat": 4,
  "nbformat_minor": 0,
  "metadata": {
    "colab": {
      "provenance": [],
      "authorship_tag": "ABX9TyMVuNPqFzZFWiF23rPIHckG",
      "include_colab_link": true
    },
    "kernelspec": {
      "name": "python3",
      "display_name": "Python 3"
    },
    "language_info": {
      "name": "python"
    }
  },
  "cells": [
    {
      "cell_type": "markdown",
      "metadata": {
        "id": "view-in-github",
        "colab_type": "text"
      },
      "source": [
        "<a href=\"https://colab.research.google.com/github/UrvashiiThakur/practiceGit/blob/main/04feb.ipynb\" target=\"_parent\"><img src=\"https://colab.research.google.com/assets/colab-badge.svg\" alt=\"Open In Colab\"/></a>"
      ]
    },
    {
      "cell_type": "code",
      "source": [],
      "metadata": {
        "id": "WtRtrk3RVc8w"
      },
      "execution_count": null,
      "outputs": []
    },
    {
      "cell_type": "markdown",
      "source": [
        "### Q1. Create a Python program to sort the given list of tuples based on integer value using a lambda function.\n",
        "\n",
        "```python\n",
        "data = [('Sachin Tendulkar', 34357), ('Ricky Ponting', 27483), ('Jack Kallis', 25534), ('Virat Kohli', 24936)]\n",
        "sorted_data = sorted(data, key=lambda x: x[1])\n",
        "print(sorted_data)\n",
        "```\n",
        "\n",
        "### Q2. Write a Python Program to find the squares of all the numbers in the given list of integers using lambda and map functions.\n",
        "\n",
        "```python\n",
        "numbers = [1, 2, 3, 4, 5, 6, 7, 8, 9, 10]\n",
        "squares = list(map(lambda x: x**2, numbers))\n",
        "print(squares)\n",
        "```\n",
        "\n",
        "### Q3. Write a Python program to convert the given list of integers into a tuple of strings. Use map and lambda functions\n",
        "\n",
        "```python\n",
        "numbers = [1, 2, 3, 4, 5, 6, 7, 8, 9, 10]\n",
        "str_tuple = tuple(map(lambda x: str(x), numbers))\n",
        "print(str_tuple)\n",
        "```\n",
        "\n",
        "### Q4. Write a Python program using the reduce function to compute the product of a list containing numbers from 1 to 25.\n",
        "\n",
        "```python\n",
        "from functools import reduce\n",
        "\n",
        "numbers = list(range(1, 26))\n",
        "product = reduce(lambda x, y: x * y, numbers)\n",
        "print(product)\n",
        "```\n",
        "\n",
        "### Q5. Write a Python program to filter the numbers in a given list that are divisible by 2 and 3 using the filter function.\n",
        "\n",
        "```python\n",
        "numbers = [2, 3, 6, 9, 27, 60, 90, 120, 55, 46]\n",
        "filtered_numbers = list(filter(lambda x: x % 2 == 0 and x % 3 == 0, numbers))\n",
        "print(filtered_numbers)\n",
        "```\n",
        "\n",
        "### Q6. Write a Python program to find palindromes in the given list of strings using lambda and filter function.\n",
        "\n",
        "```python\n",
        "words = ['python', 'php', 'aba', 'radar', 'level']\n",
        "palindromes = list(filter(lambda x: x == x[::-1], words))\n",
        "print(palindromes)\n",
        "```"
      ],
      "metadata": {
        "id": "qsZU_MRWaqzi"
      }
    }
  ]
}